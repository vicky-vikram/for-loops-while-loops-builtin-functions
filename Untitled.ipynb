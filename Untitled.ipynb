{
 "cells": [
  {
   "cell_type": "code",
   "execution_count": 9,
   "id": "6b51dc5c",
   "metadata": {},
   "outputs": [
    {
     "name": "stdout",
     "output_type": "stream",
     "text": [
      "abc\n",
      "abc\n",
      "abc\n"
     ]
    }
   ],
   "source": [
    "for i in v:\n",
    "    print(v)"
   ]
  },
  {
   "cell_type": "code",
   "execution_count": 14,
   "id": "83f2c6b3",
   "metadata": {},
   "outputs": [],
   "source": [
    "v = \"abcdefghijklmnopqrstuvwxyz\"\n"
   ]
  },
  {
   "cell_type": "code",
   "execution_count": 18,
   "id": "3d714bf0",
   "metadata": {},
   "outputs": [
    {
     "name": "stdout",
     "output_type": "stream",
     "text": [
      "a\n",
      "b\n",
      "c\n",
      "d\n",
      "e\n",
      "f\n",
      "g\n",
      "h\n",
      "i\n",
      "j\n",
      "k\n",
      "l\n",
      "m\n",
      "n\n",
      "o\n",
      "p\n",
      "q\n",
      "r\n",
      "s\n",
      "t\n",
      "u\n",
      "v\n",
      "w\n",
      "x\n",
      "y\n",
      "z\n"
     ]
    }
   ],
   "source": [
    "for i in range(len(v)):\n",
    "    print(v[i])"
   ]
  },
  {
   "cell_type": "code",
   "execution_count": 26,
   "id": "dc88c6ca",
   "metadata": {},
   "outputs": [
    {
     "name": "stdout",
     "output_type": "stream",
     "text": [
      "11\n"
     ]
    },
    {
     "data": {
      "text/plain": [
       "-1"
      ]
     },
     "execution_count": 26,
     "metadata": {},
     "output_type": "execute_result"
    }
   ],
   "source": [
    "v = \"my name is vicky vikram\"\n",
    "print(v.find(\"v\"))\n",
    "v.find(\"z\")"
   ]
  },
  {
   "cell_type": "code",
   "execution_count": 36,
   "id": "55001024",
   "metadata": {},
   "outputs": [
    {
     "name": "stdout",
     "output_type": "stream",
     "text": [
      "3\n",
      "4\n",
      "5\n",
      "6\n"
     ]
    }
   ],
   "source": [
    "s = v.find(\"name\")\n",
    "for i in range(len(\"name\")):\n",
    "    print(s+i)"
   ]
  },
  {
   "cell_type": "code",
   "execution_count": 43,
   "id": "a9ed1010",
   "metadata": {},
   "outputs": [
    {
     "data": {
      "text/plain": [
       "1"
      ]
     },
     "execution_count": 43,
     "metadata": {},
     "output_type": "execute_result"
    }
   ],
   "source": [
    "v.count(v)"
   ]
  },
  {
   "cell_type": "code",
   "execution_count": 41,
   "id": "69139972",
   "metadata": {},
   "outputs": [
    {
     "data": {
      "text/plain": [
       "'MY NAME IS VICKY VIKRAM'"
      ]
     },
     "execution_count": 41,
     "metadata": {},
     "output_type": "execute_result"
    }
   ],
   "source": [
    "v.upper()"
   ]
  },
  {
   "cell_type": "code",
   "execution_count": 49,
   "id": "789619c3",
   "metadata": {},
   "outputs": [
    {
     "data": {
      "text/plain": [
       "['my name is ', 'icky ', 'ikram']"
      ]
     },
     "execution_count": 49,
     "metadata": {},
     "output_type": "execute_result"
    }
   ],
   "source": [
    "v.split(\"v\")"
   ]
  },
  {
   "cell_type": "code",
   "execution_count": 50,
   "id": "54b5f04e",
   "metadata": {},
   "outputs": [
    {
     "data": {
      "text/plain": [
       "'my name is vicky vikram'"
      ]
     },
     "execution_count": 50,
     "metadata": {},
     "output_type": "execute_result"
    }
   ],
   "source": [
    "v.lower()"
   ]
  },
  {
   "cell_type": "code",
   "execution_count": 51,
   "id": "4c3f2b80",
   "metadata": {},
   "outputs": [
    {
     "data": {
      "text/plain": [
       "'MY NAME IS VICKY VIKRAM'"
      ]
     },
     "execution_count": 51,
     "metadata": {},
     "output_type": "execute_result"
    }
   ],
   "source": [
    "v.swapcase()"
   ]
  },
  {
   "cell_type": "code",
   "execution_count": 52,
   "id": "6f2d8b78",
   "metadata": {},
   "outputs": [
    {
     "data": {
      "text/plain": [
       "'my name is vicky vikram'"
      ]
     },
     "execution_count": 52,
     "metadata": {},
     "output_type": "execute_result"
    }
   ],
   "source": [
    "v.strip()"
   ]
  },
  {
   "cell_type": "code",
   "execution_count": 54,
   "id": "1ebba0f5",
   "metadata": {},
   "outputs": [
    {
     "data": {
      "text/plain": [
       "'m_y_ _n_a_m_e_ _i_s_ _v_i_c_k_y_ _v_i_k_r_a_m'"
      ]
     },
     "execution_count": 54,
     "metadata": {},
     "output_type": "execute_result"
    }
   ],
   "source": [
    "\"_\".join(v)"
   ]
  },
  {
   "cell_type": "code",
   "execution_count": 55,
   "id": "6dc0e05a",
   "metadata": {},
   "outputs": [
    {
     "data": {
      "text/plain": [
       "<reversed at 0x16c89e77880>"
      ]
     },
     "execution_count": 55,
     "metadata": {},
     "output_type": "execute_result"
    }
   ],
   "source": [
    "reversed(v)"
   ]
  },
  {
   "cell_type": "code",
   "execution_count": 59,
   "id": "b66b4ded",
   "metadata": {},
   "outputs": [
    {
     "data": {
      "text/plain": [
       "['m',\n",
       " 'a',\n",
       " 'r',\n",
       " 'k',\n",
       " 'i',\n",
       " 'v',\n",
       " ' ',\n",
       " 'y',\n",
       " 'k',\n",
       " 'c',\n",
       " 'i',\n",
       " 'v',\n",
       " ' ',\n",
       " 's',\n",
       " 'i',\n",
       " ' ',\n",
       " 'e',\n",
       " 'm',\n",
       " 'a',\n",
       " 'n',\n",
       " ' ',\n",
       " 'y',\n",
       " 'm']"
      ]
     },
     "execution_count": 59,
     "metadata": {},
     "output_type": "execute_result"
    }
   ],
   "source": [
    "list(reversed(v))"
   ]
  },
  {
   "cell_type": "code",
   "execution_count": 72,
   "id": "3b9e88b0",
   "metadata": {},
   "outputs": [
    {
     "name": "stdout",
     "output_type": "stream",
     "text": [
      "m\n",
      "a\n",
      "r\n",
      "k\n",
      "i\n",
      "v\n",
      " \n",
      "y\n",
      "k\n",
      "c\n",
      "i\n",
      "v\n",
      " \n",
      "s\n",
      "i\n",
      " \n",
      "e\n",
      "m\n",
      "a\n",
      "n\n",
      " \n",
      "y\n",
      "m\n"
     ]
    }
   ],
   "source": [
    "for i in reversed(v): \n",
    "    print(i)\n",
    "    \n"
   ]
  },
  {
   "cell_type": "code",
   "execution_count": 73,
   "id": "db88ee22",
   "metadata": {},
   "outputs": [],
   "source": [
    " s = \"   my name is    \""
   ]
  },
  {
   "cell_type": "code",
   "execution_count": 74,
   "id": "24b1cffe",
   "metadata": {},
   "outputs": [
    {
     "data": {
      "text/plain": [
       "['my', 'name', 'is']"
      ]
     },
     "execution_count": 74,
     "metadata": {},
     "output_type": "execute_result"
    }
   ],
   "source": [
    "s.split()"
   ]
  },
  {
   "cell_type": "code",
   "execution_count": 76,
   "id": "62945b51",
   "metadata": {},
   "outputs": [
    {
     "data": {
      "text/plain": [
       "'my name is'"
      ]
     },
     "execution_count": 76,
     "metadata": {},
     "output_type": "execute_result"
    }
   ],
   "source": [
    "s.strip()"
   ]
  },
  {
   "cell_type": "code",
   "execution_count": 77,
   "id": "a1556570",
   "metadata": {},
   "outputs": [
    {
     "data": {
      "text/plain": [
       "'my name is    '"
      ]
     },
     "execution_count": 77,
     "metadata": {},
     "output_type": "execute_result"
    }
   ],
   "source": [
    "s.lstrip()"
   ]
  },
  {
   "cell_type": "code",
   "execution_count": 80,
   "id": "1cd36f61",
   "metadata": {},
   "outputs": [
    {
     "data": {
      "text/plain": [
       "'   my name is    '"
      ]
     },
     "execution_count": 80,
     "metadata": {},
     "output_type": "execute_result"
    }
   ],
   "source": [
    "s"
   ]
  },
  {
   "cell_type": "code",
   "execution_count": 81,
   "id": "2677c3b2",
   "metadata": {},
   "outputs": [
    {
     "data": {
      "text/plain": [
       "'   my name is'"
      ]
     },
     "execution_count": 81,
     "metadata": {},
     "output_type": "execute_result"
    }
   ],
   "source": [
    "s.rstrip()"
   ]
  },
  {
   "cell_type": "code",
   "execution_count": 82,
   "id": "37081d78",
   "metadata": {},
   "outputs": [
    {
     "data": {
      "text/plain": [
       "'my name is Vicky Vikram'"
      ]
     },
     "execution_count": 82,
     "metadata": {},
     "output_type": "execute_result"
    }
   ],
   "source": [
    "  v.replace(\"v\",\"V\")"
   ]
  },
  {
   "cell_type": "code",
   "execution_count": 83,
   "id": "311c04be",
   "metadata": {},
   "outputs": [
    {
     "data": {
      "text/plain": [
       "'   my name is    '"
      ]
     },
     "execution_count": 83,
     "metadata": {},
     "output_type": "execute_result"
    }
   ],
   "source": [
    "v\n",
    "s"
   ]
  },
  {
   "cell_type": "code",
   "execution_count": 84,
   "id": "18423743",
   "metadata": {},
   "outputs": [
    {
     "data": {
      "text/plain": [
       "'my name is vicky vikram'"
      ]
     },
     "execution_count": 84,
     "metadata": {},
     "output_type": "execute_result"
    }
   ],
   "source": [
    "v"
   ]
  },
  {
   "cell_type": "code",
   "execution_count": 85,
   "id": "01cf3cba",
   "metadata": {},
   "outputs": [
    {
     "data": {
      "text/plain": [
       "'my name is vicky vikram'"
      ]
     },
     "execution_count": 85,
     "metadata": {},
     "output_type": "execute_result"
    }
   ],
   "source": [
    " v.center(5,\"*\")"
   ]
  },
  {
   "cell_type": "code",
   "execution_count": 86,
   "id": "8ce3cf4d",
   "metadata": {},
   "outputs": [
    {
     "data": {
      "text/plain": [
       "'my name is vicky vikram'"
      ]
     },
     "execution_count": 86,
     "metadata": {},
     "output_type": "execute_result"
    }
   ],
   "source": [
    "v"
   ]
  },
  {
   "cell_type": "code",
   "execution_count": 87,
   "id": "f1c9ddae",
   "metadata": {},
   "outputs": [],
   "source": [
    "v=\"vikram\""
   ]
  },
  {
   "cell_type": "code",
   "execution_count": 89,
   "id": "54383468",
   "metadata": {},
   "outputs": [
    {
     "data": {
      "text/plain": [
       "'vikram'"
      ]
     },
     "execution_count": 89,
     "metadata": {},
     "output_type": "execute_result"
    }
   ],
   "source": [
    "v.center(5,'*')"
   ]
  },
  {
   "cell_type": "code",
   "execution_count": 90,
   "id": "3c8ef9bb",
   "metadata": {},
   "outputs": [
    {
     "data": {
      "text/plain": [
       "'vikram'"
      ]
     },
     "execution_count": 90,
     "metadata": {},
     "output_type": "execute_result"
    }
   ],
   "source": [
    "v"
   ]
  },
  {
   "cell_type": "code",
   "execution_count": 92,
   "id": "a9885d98",
   "metadata": {},
   "outputs": [
    {
     "data": {
      "text/plain": [
       "'vikram'"
      ]
     },
     "execution_count": 92,
     "metadata": {},
     "output_type": "execute_result"
    }
   ],
   "source": [
    "v.center(2,'*')"
   ]
  },
  {
   "cell_type": "code",
   "execution_count": 93,
   "id": "9742532a",
   "metadata": {},
   "outputs": [],
   "source": [
    "v=\"vicky\\tvikram\\tis\\ta\\tgood\\tman\""
   ]
  },
  {
   "cell_type": "code",
   "execution_count": 94,
   "id": "c875a2e5",
   "metadata": {},
   "outputs": [
    {
     "data": {
      "text/plain": [
       "'vicky   vikram  is      a       good    man'"
      ]
     },
     "execution_count": 94,
     "metadata": {},
     "output_type": "execute_result"
    }
   ],
   "source": [
    "v.expandtabs()"
   ]
  },
  {
   "cell_type": "code",
   "execution_count": 100,
   "id": "0bde76b0",
   "metadata": {},
   "outputs": [],
   "source": [
    "a = \"we all are part of Full Stack\""
   ]
  },
  {
   "cell_type": "code",
   "execution_count": 101,
   "id": "7926a19c",
   "metadata": {},
   "outputs": [
    {
     "data": {
      "text/plain": [
       "'we all are part of full stack'"
      ]
     },
     "execution_count": 101,
     "metadata": {},
     "output_type": "execute_result"
    }
   ],
   "source": [
    "a.lower()"
   ]
  },
  {
   "cell_type": "code",
   "execution_count": 108,
   "id": "63d9fef3",
   "metadata": {},
   "outputs": [
    {
     "data": {
      "text/plain": [
       "4"
      ]
     },
     "execution_count": 108,
     "metadata": {},
     "output_type": "execute_result"
    }
   ],
   "source": [
    "(a.count(\"a\"))\n"
   ]
  },
  {
   "cell_type": "code",
   "execution_count": 109,
   "id": "5edbf2c3",
   "metadata": {},
   "outputs": [
    {
     "name": "stdout",
     "output_type": "stream",
     "text": [
      "3\n",
      "7\n",
      "12\n",
      "26\n"
     ]
    }
   ],
   "source": [
    "for i in range(len(a)):\n",
    "    if a[i] == \"a\":\n",
    "        print(i)"
   ]
  },
  {
   "cell_type": "code",
   "execution_count": 106,
   "id": "7ccda6e3",
   "metadata": {},
   "outputs": [
    {
     "data": {
      "text/plain": [
       "'we iNeuronll iNeuronre piNeuronrt of Full StiNeuronck'"
      ]
     },
     "execution_count": 106,
     "metadata": {},
     "output_type": "execute_result"
    }
   ],
   "source": [
    "a.replace(\"a\",\"iNeuron\")"
   ]
  },
  {
   "cell_type": "code",
   "execution_count": 107,
   "id": "6639d754",
   "metadata": {},
   "outputs": [
    {
     "data": {
      "text/plain": [
       "['vicky', 'vikram', 'is', 'a', 'good', 'man']"
      ]
     },
     "execution_count": 107,
     "metadata": {},
     "output_type": "execute_result"
    }
   ],
   "source": [
    "v.split()"
   ]
  },
  {
   "cell_type": "code",
   "execution_count": 110,
   "id": "fc0deea6",
   "metadata": {},
   "outputs": [],
   "source": [
    "v = \"Vicky\""
   ]
  },
  {
   "cell_type": "code",
   "execution_count": 111,
   "id": "d4d4832b",
   "metadata": {},
   "outputs": [
    {
     "data": {
      "text/plain": [
       "False"
      ]
     },
     "execution_count": 111,
     "metadata": {},
     "output_type": "execute_result"
    }
   ],
   "source": [
    "v.isupper()"
   ]
  },
  {
   "cell_type": "code",
   "execution_count": 112,
   "id": "a90f7f4c",
   "metadata": {},
   "outputs": [
    {
     "data": {
      "text/plain": [
       "True"
      ]
     },
     "execution_count": 112,
     "metadata": {},
     "output_type": "execute_result"
    }
   ],
   "source": [
    "v.isalnum()"
   ]
  },
  {
   "cell_type": "code",
   "execution_count": 113,
   "id": "6ea06f3f",
   "metadata": {},
   "outputs": [],
   "source": [
    "v=\"vicky\""
   ]
  },
  {
   "cell_type": "code",
   "execution_count": 114,
   "id": "cef63fcb",
   "metadata": {},
   "outputs": [
    {
     "data": {
      "text/plain": [
       "True"
      ]
     },
     "execution_count": 114,
     "metadata": {},
     "output_type": "execute_result"
    }
   ],
   "source": [
    "v.islower()"
   ]
  },
  {
   "cell_type": "code",
   "execution_count": 115,
   "id": "96f193bd",
   "metadata": {},
   "outputs": [
    {
     "name": "stdout",
     "output_type": "stream",
     "text": [
      "y\n",
      "k\n",
      "c\n",
      "i\n",
      "v\n"
     ]
    }
   ],
   "source": [
    "v = \"vicky\"\n",
    "re = len(v)-1\n",
    "while re >= 0:\n",
    "    print(v[re])\n",
    "    re = re-1"
   ]
  },
  {
   "cell_type": "code",
   "execution_count": 117,
   "id": "2b3df598",
   "metadata": {},
   "outputs": [
    {
     "data": {
      "text/plain": [
       "'vicky vikram is my name'"
      ]
     },
     "execution_count": 117,
     "metadata": {},
     "output_type": "execute_result"
    }
   ],
   "source": [
    "(\"{}{} is my name\".format(\"vicky\",\" vikram\"))"
   ]
  },
  {
   "cell_type": "code",
   "execution_count": null,
   "id": "f2100077",
   "metadata": {},
   "outputs": [],
   "source": []
  }
 ],
 "metadata": {
  "kernelspec": {
   "display_name": "Python 3 (ipykernel)",
   "language": "python",
   "name": "python3"
  },
  "language_info": {
   "codemirror_mode": {
    "name": "ipython",
    "version": 3
   },
   "file_extension": ".py",
   "mimetype": "text/x-python",
   "name": "python",
   "nbconvert_exporter": "python",
   "pygments_lexer": "ipython3",
   "version": "3.9.13"
  }
 },
 "nbformat": 4,
 "nbformat_minor": 5
}
